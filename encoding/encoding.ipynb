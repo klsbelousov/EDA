{
 "cells": [
  {
   "cell_type": "markdown",
   "id": "5eb6072d-d551-4536-886d-5ab0f300bc75",
   "metadata": {},
   "source": [
    "### One hot encoding"
   ]
  },
  {
   "cell_type": "code",
   "execution_count": 1,
   "id": "ba549acb-571d-4054-95c9-53ddf35374a9",
   "metadata": {},
   "outputs": [],
   "source": [
    "import pandas as pd\n",
    "import numpy as np"
   ]
  },
  {
   "cell_type": "code",
   "execution_count": 4,
   "id": "59ba3aa8-5e9a-4382-83f6-28c014f21c57",
   "metadata": {},
   "outputs": [],
   "source": [
    "df = pd.read_csv('/Users/klsbelousov/ML/Datasets/Titanic/train.csv', usecols=['Sex'])"
   ]
  },
  {
   "cell_type": "code",
   "execution_count": 5,
   "id": "17c0588f-e3e6-4729-9a5f-676ccb124f90",
   "metadata": {},
   "outputs": [
    {
     "data": {
      "text/html": [
       "<div>\n",
       "<style scoped>\n",
       "    .dataframe tbody tr th:only-of-type {\n",
       "        vertical-align: middle;\n",
       "    }\n",
       "\n",
       "    .dataframe tbody tr th {\n",
       "        vertical-align: top;\n",
       "    }\n",
       "\n",
       "    .dataframe thead th {\n",
       "        text-align: right;\n",
       "    }\n",
       "</style>\n",
       "<table border=\"1\" class=\"dataframe\">\n",
       "  <thead>\n",
       "    <tr style=\"text-align: right;\">\n",
       "      <th></th>\n",
       "      <th>Sex</th>\n",
       "    </tr>\n",
       "  </thead>\n",
       "  <tbody>\n",
       "    <tr>\n",
       "      <th>0</th>\n",
       "      <td>male</td>\n",
       "    </tr>\n",
       "    <tr>\n",
       "      <th>1</th>\n",
       "      <td>female</td>\n",
       "    </tr>\n",
       "    <tr>\n",
       "      <th>2</th>\n",
       "      <td>female</td>\n",
       "    </tr>\n",
       "    <tr>\n",
       "      <th>3</th>\n",
       "      <td>female</td>\n",
       "    </tr>\n",
       "    <tr>\n",
       "      <th>4</th>\n",
       "      <td>male</td>\n",
       "    </tr>\n",
       "  </tbody>\n",
       "</table>\n",
       "</div>"
      ],
      "text/plain": [
       "      Sex\n",
       "0    male\n",
       "1  female\n",
       "2  female\n",
       "3  female\n",
       "4    male"
      ]
     },
     "execution_count": 5,
     "metadata": {},
     "output_type": "execute_result"
    }
   ],
   "source": [
    "df.head()"
   ]
  },
  {
   "cell_type": "code",
   "execution_count": 8,
   "id": "9b877f9e-60ed-419e-ab0f-7f1ce21a2e93",
   "metadata": {},
   "outputs": [
    {
     "data": {
      "text/html": [
       "<div>\n",
       "<style scoped>\n",
       "    .dataframe tbody tr th:only-of-type {\n",
       "        vertical-align: middle;\n",
       "    }\n",
       "\n",
       "    .dataframe tbody tr th {\n",
       "        vertical-align: top;\n",
       "    }\n",
       "\n",
       "    .dataframe thead th {\n",
       "        text-align: right;\n",
       "    }\n",
       "</style>\n",
       "<table border=\"1\" class=\"dataframe\">\n",
       "  <thead>\n",
       "    <tr style=\"text-align: right;\">\n",
       "      <th></th>\n",
       "      <th>Sex_male</th>\n",
       "    </tr>\n",
       "  </thead>\n",
       "  <tbody>\n",
       "    <tr>\n",
       "      <th>0</th>\n",
       "      <td>True</td>\n",
       "    </tr>\n",
       "    <tr>\n",
       "      <th>1</th>\n",
       "      <td>False</td>\n",
       "    </tr>\n",
       "    <tr>\n",
       "      <th>2</th>\n",
       "      <td>False</td>\n",
       "    </tr>\n",
       "    <tr>\n",
       "      <th>3</th>\n",
       "      <td>False</td>\n",
       "    </tr>\n",
       "    <tr>\n",
       "      <th>4</th>\n",
       "      <td>True</td>\n",
       "    </tr>\n",
       "  </tbody>\n",
       "</table>\n",
       "</div>"
      ],
      "text/plain": [
       "   Sex_male\n",
       "0      True\n",
       "1     False\n",
       "2     False\n",
       "3     False\n",
       "4      True"
      ]
     },
     "execution_count": 8,
     "metadata": {},
     "output_type": "execute_result"
    }
   ],
   "source": [
    "pd.get_dummies(df, drop_first=True).head()"
   ]
  },
  {
   "cell_type": "code",
   "execution_count": 9,
   "id": "37909d28-975f-47ce-b782-4fe868faaab1",
   "metadata": {},
   "outputs": [],
   "source": [
    "df = pd.read_csv('/Users/klsbelousov/ML/Datasets/Titanic/train.csv', usecols=['Embarked'])"
   ]
  },
  {
   "cell_type": "code",
   "execution_count": 10,
   "id": "4054f3a8-d462-4701-873b-71877a268402",
   "metadata": {},
   "outputs": [
    {
     "data": {
      "text/html": [
       "<div>\n",
       "<style scoped>\n",
       "    .dataframe tbody tr th:only-of-type {\n",
       "        vertical-align: middle;\n",
       "    }\n",
       "\n",
       "    .dataframe tbody tr th {\n",
       "        vertical-align: top;\n",
       "    }\n",
       "\n",
       "    .dataframe thead th {\n",
       "        text-align: right;\n",
       "    }\n",
       "</style>\n",
       "<table border=\"1\" class=\"dataframe\">\n",
       "  <thead>\n",
       "    <tr style=\"text-align: right;\">\n",
       "      <th></th>\n",
       "      <th>Embarked</th>\n",
       "    </tr>\n",
       "  </thead>\n",
       "  <tbody>\n",
       "    <tr>\n",
       "      <th>0</th>\n",
       "      <td>S</td>\n",
       "    </tr>\n",
       "    <tr>\n",
       "      <th>1</th>\n",
       "      <td>C</td>\n",
       "    </tr>\n",
       "    <tr>\n",
       "      <th>2</th>\n",
       "      <td>S</td>\n",
       "    </tr>\n",
       "    <tr>\n",
       "      <th>3</th>\n",
       "      <td>S</td>\n",
       "    </tr>\n",
       "    <tr>\n",
       "      <th>4</th>\n",
       "      <td>S</td>\n",
       "    </tr>\n",
       "  </tbody>\n",
       "</table>\n",
       "</div>"
      ],
      "text/plain": [
       "  Embarked\n",
       "0        S\n",
       "1        C\n",
       "2        S\n",
       "3        S\n",
       "4        S"
      ]
     },
     "execution_count": 10,
     "metadata": {},
     "output_type": "execute_result"
    }
   ],
   "source": [
    "df.head()"
   ]
  },
  {
   "cell_type": "code",
   "execution_count": 13,
   "id": "51ea9424-2639-4fdd-aad7-96c6a54c0928",
   "metadata": {},
   "outputs": [
    {
     "data": {
      "text/plain": [
       "array(['S', 'C', 'Q', nan], dtype=object)"
      ]
     },
     "execution_count": 13,
     "metadata": {},
     "output_type": "execute_result"
    }
   ],
   "source": [
    "df['Embarked'].unique()"
   ]
  },
  {
   "cell_type": "code",
   "execution_count": 14,
   "id": "e04f5cb5-3270-49c8-867c-52a02e4a8e92",
   "metadata": {},
   "outputs": [],
   "source": [
    "df.dropna(inplace=True)"
   ]
  },
  {
   "cell_type": "code",
   "execution_count": 17,
   "id": "cdf5a335-1bcf-45c0-847a-c259f81fb6d3",
   "metadata": {},
   "outputs": [
    {
     "data": {
      "text/html": [
       "<div>\n",
       "<style scoped>\n",
       "    .dataframe tbody tr th:only-of-type {\n",
       "        vertical-align: middle;\n",
       "    }\n",
       "\n",
       "    .dataframe tbody tr th {\n",
       "        vertical-align: top;\n",
       "    }\n",
       "\n",
       "    .dataframe thead th {\n",
       "        text-align: right;\n",
       "    }\n",
       "</style>\n",
       "<table border=\"1\" class=\"dataframe\">\n",
       "  <thead>\n",
       "    <tr style=\"text-align: right;\">\n",
       "      <th></th>\n",
       "      <th>Embarked_Q</th>\n",
       "      <th>Embarked_S</th>\n",
       "    </tr>\n",
       "  </thead>\n",
       "  <tbody>\n",
       "    <tr>\n",
       "      <th>0</th>\n",
       "      <td>False</td>\n",
       "      <td>True</td>\n",
       "    </tr>\n",
       "    <tr>\n",
       "      <th>1</th>\n",
       "      <td>False</td>\n",
       "      <td>False</td>\n",
       "    </tr>\n",
       "    <tr>\n",
       "      <th>2</th>\n",
       "      <td>False</td>\n",
       "      <td>True</td>\n",
       "    </tr>\n",
       "    <tr>\n",
       "      <th>3</th>\n",
       "      <td>False</td>\n",
       "      <td>True</td>\n",
       "    </tr>\n",
       "    <tr>\n",
       "      <th>4</th>\n",
       "      <td>False</td>\n",
       "      <td>True</td>\n",
       "    </tr>\n",
       "  </tbody>\n",
       "</table>\n",
       "</div>"
      ],
      "text/plain": [
       "   Embarked_Q  Embarked_S\n",
       "0       False        True\n",
       "1       False       False\n",
       "2       False        True\n",
       "3       False        True\n",
       "4       False        True"
      ]
     },
     "execution_count": 17,
     "metadata": {},
     "output_type": "execute_result"
    }
   ],
   "source": [
    "pd.get_dummies(df, drop_first=True).head()"
   ]
  },
  {
   "cell_type": "markdown",
   "id": "74904379-ccd0-4260-961e-1e84f5e36091",
   "metadata": {},
   "source": [
    "### Onehot encoding with many categories in a feature"
   ]
  },
  {
   "cell_type": "code",
   "execution_count": 20,
   "id": "d9371006-28f2-4bf4-9a9e-58c9fe14b582",
   "metadata": {},
   "outputs": [],
   "source": [
    "df = pd.read_csv('/Users/klsbelousov/ML/Datasets/Mercedes/mercedes.csv', usecols=['X0', 'X1', 'X2', 'X3', 'X4', 'X5', 'X6', 'X8'])"
   ]
  },
  {
   "cell_type": "code",
   "execution_count": 21,
   "id": "85cb9261-ed97-4b6f-85dc-127a5199073c",
   "metadata": {},
   "outputs": [
    {
     "data": {
      "text/html": [
       "<div>\n",
       "<style scoped>\n",
       "    .dataframe tbody tr th:only-of-type {\n",
       "        vertical-align: middle;\n",
       "    }\n",
       "\n",
       "    .dataframe tbody tr th {\n",
       "        vertical-align: top;\n",
       "    }\n",
       "\n",
       "    .dataframe thead th {\n",
       "        text-align: right;\n",
       "    }\n",
       "</style>\n",
       "<table border=\"1\" class=\"dataframe\">\n",
       "  <thead>\n",
       "    <tr style=\"text-align: right;\">\n",
       "      <th></th>\n",
       "      <th>X0</th>\n",
       "      <th>X1</th>\n",
       "      <th>X2</th>\n",
       "      <th>X3</th>\n",
       "      <th>X4</th>\n",
       "      <th>X5</th>\n",
       "      <th>X6</th>\n",
       "      <th>X8</th>\n",
       "    </tr>\n",
       "  </thead>\n",
       "  <tbody>\n",
       "    <tr>\n",
       "      <th>0</th>\n",
       "      <td>k</td>\n",
       "      <td>v</td>\n",
       "      <td>at</td>\n",
       "      <td>a</td>\n",
       "      <td>d</td>\n",
       "      <td>u</td>\n",
       "      <td>j</td>\n",
       "      <td>o</td>\n",
       "    </tr>\n",
       "    <tr>\n",
       "      <th>1</th>\n",
       "      <td>k</td>\n",
       "      <td>t</td>\n",
       "      <td>av</td>\n",
       "      <td>e</td>\n",
       "      <td>d</td>\n",
       "      <td>y</td>\n",
       "      <td>l</td>\n",
       "      <td>o</td>\n",
       "    </tr>\n",
       "    <tr>\n",
       "      <th>2</th>\n",
       "      <td>az</td>\n",
       "      <td>w</td>\n",
       "      <td>n</td>\n",
       "      <td>c</td>\n",
       "      <td>d</td>\n",
       "      <td>x</td>\n",
       "      <td>j</td>\n",
       "      <td>x</td>\n",
       "    </tr>\n",
       "    <tr>\n",
       "      <th>3</th>\n",
       "      <td>az</td>\n",
       "      <td>t</td>\n",
       "      <td>n</td>\n",
       "      <td>f</td>\n",
       "      <td>d</td>\n",
       "      <td>x</td>\n",
       "      <td>l</td>\n",
       "      <td>e</td>\n",
       "    </tr>\n",
       "    <tr>\n",
       "      <th>4</th>\n",
       "      <td>az</td>\n",
       "      <td>v</td>\n",
       "      <td>n</td>\n",
       "      <td>f</td>\n",
       "      <td>d</td>\n",
       "      <td>h</td>\n",
       "      <td>d</td>\n",
       "      <td>n</td>\n",
       "    </tr>\n",
       "  </tbody>\n",
       "</table>\n",
       "</div>"
      ],
      "text/plain": [
       "   X0 X1  X2 X3 X4 X5 X6 X8\n",
       "0   k  v  at  a  d  u  j  o\n",
       "1   k  t  av  e  d  y  l  o\n",
       "2  az  w   n  c  d  x  j  x\n",
       "3  az  t   n  f  d  x  l  e\n",
       "4  az  v   n  f  d  h  d  n"
      ]
     },
     "execution_count": 21,
     "metadata": {},
     "output_type": "execute_result"
    }
   ],
   "source": [
    "df.head()"
   ]
  },
  {
   "cell_type": "code",
   "execution_count": 23,
   "id": "d2743fbe-d3e1-47a8-bd0d-ab165331c879",
   "metadata": {},
   "outputs": [
    {
     "name": "stdout",
     "output_type": "stream",
     "text": [
      "X0\n",
      "z     360\n",
      "ak    349\n",
      "y     324\n",
      "ay    313\n",
      "t     306\n",
      "x     300\n",
      "o     269\n",
      "f     227\n",
      "n     195\n",
      "w     182\n",
      "j     181\n",
      "az    175\n",
      "aj    151\n",
      "s     106\n",
      "ap    103\n",
      "h      75\n",
      "d      73\n",
      "al     67\n",
      "v      36\n",
      "af     35\n",
      "m      34\n",
      "ai     34\n",
      "e      32\n",
      "ba     27\n",
      "at     25\n",
      "a      21\n",
      "ax     19\n",
      "aq     18\n",
      "am     18\n",
      "i      18\n",
      "u      17\n",
      "aw     16\n",
      "l      16\n",
      "ad     14\n",
      "au     11\n",
      "k      11\n",
      "b      11\n",
      "r      10\n",
      "as     10\n",
      "bc      6\n",
      "ao      4\n",
      "c       3\n",
      "aa      2\n",
      "q       2\n",
      "ac      1\n",
      "g       1\n",
      "ab      1\n",
      "Name: count, dtype: int64\n",
      "X1\n",
      "aa    833\n",
      "s     598\n",
      "b     592\n",
      "l     590\n",
      "v     408\n",
      "r     251\n",
      "i     203\n",
      "a     143\n",
      "c     121\n",
      "o      82\n",
      "w      52\n",
      "z      46\n",
      "u      37\n",
      "e      33\n",
      "m      32\n",
      "t      31\n",
      "h      29\n",
      "y      23\n",
      "f      23\n",
      "j      22\n",
      "n      19\n",
      "k      17\n",
      "p       9\n",
      "g       6\n",
      "d       3\n",
      "q       3\n",
      "ab      3\n",
      "Name: count, dtype: int64\n",
      "X2\n",
      "as    1659\n",
      "ae     496\n",
      "ai     415\n",
      "m      367\n",
      "ak     265\n",
      "r      153\n",
      "n      137\n",
      "s       94\n",
      "f       87\n",
      "e       81\n",
      "aq      63\n",
      "ay      54\n",
      "a       47\n",
      "t       29\n",
      "k       25\n",
      "i       25\n",
      "b       21\n",
      "ao      20\n",
      "ag      19\n",
      "z       19\n",
      "d       18\n",
      "ac      13\n",
      "g       12\n",
      "ap      11\n",
      "y       11\n",
      "x       10\n",
      "aw       8\n",
      "at       6\n",
      "h        6\n",
      "al       5\n",
      "an       5\n",
      "q        5\n",
      "av       4\n",
      "ah       4\n",
      "p        4\n",
      "au       3\n",
      "am       1\n",
      "j        1\n",
      "af       1\n",
      "l        1\n",
      "aa       1\n",
      "c        1\n",
      "o        1\n",
      "ar       1\n",
      "Name: count, dtype: int64\n",
      "X3\n",
      "c    1942\n",
      "f    1076\n",
      "a     440\n",
      "d     290\n",
      "g     241\n",
      "e     163\n",
      "b      57\n",
      "Name: count, dtype: int64\n",
      "X4\n",
      "d    4205\n",
      "a       2\n",
      "b       1\n",
      "c       1\n",
      "Name: count, dtype: int64\n",
      "X5\n",
      "w     231\n",
      "v     231\n",
      "q     220\n",
      "r     215\n",
      "s     214\n",
      "d     214\n",
      "n     212\n",
      "p     208\n",
      "m     208\n",
      "i     207\n",
      "ae    205\n",
      "ag    204\n",
      "ac    200\n",
      "ab    197\n",
      "l     195\n",
      "af    188\n",
      "ad    185\n",
      "k     177\n",
      "c     131\n",
      "j     125\n",
      "aa    112\n",
      "ah     97\n",
      "o      20\n",
      "f       7\n",
      "x       2\n",
      "y       1\n",
      "g       1\n",
      "h       1\n",
      "u       1\n",
      "Name: count, dtype: int64\n",
      "X6\n",
      "g    1042\n",
      "j    1039\n",
      "d     625\n",
      "i     488\n",
      "l     478\n",
      "a     206\n",
      "h     190\n",
      "k      43\n",
      "c      38\n",
      "b      28\n",
      "f      20\n",
      "e      12\n",
      "Name: count, dtype: int64\n",
      "X8\n",
      "j    277\n",
      "s    255\n",
      "f    243\n",
      "n    242\n",
      "i    237\n",
      "e    225\n",
      "r    219\n",
      "a    210\n",
      "w    196\n",
      "v    194\n",
      "b    190\n",
      "k    176\n",
      "o    163\n",
      "m    155\n",
      "g    130\n",
      "u    119\n",
      "t    119\n",
      "q    117\n",
      "h    117\n",
      "y    116\n",
      "x    105\n",
      "d    103\n",
      "l    101\n",
      "p    100\n",
      "c    100\n",
      "Name: count, dtype: int64\n"
     ]
    }
   ],
   "source": [
    "for i in df.columns:\n",
    "    print(df[i].value_counts())"
   ]
  },
  {
   "cell_type": "code",
   "execution_count": 24,
   "id": "1d8e8611-b254-4633-9dc2-85699718897a",
   "metadata": {},
   "outputs": [
    {
     "data": {
      "text/plain": [
       "array(['k', 'az', 't', 'al', 'o', 'w', 'j', 'h', 's', 'n', 'ay', 'f', 'x',\n",
       "       'y', 'aj', 'ak', 'am', 'z', 'q', 'at', 'ap', 'v', 'af', 'a', 'e',\n",
       "       'ai', 'd', 'aq', 'c', 'aa', 'ba', 'as', 'i', 'r', 'b', 'ax', 'bc',\n",
       "       'u', 'ad', 'au', 'm', 'l', 'aw', 'ao', 'ac', 'g', 'ab'],\n",
       "      dtype=object)"
      ]
     },
     "execution_count": 24,
     "metadata": {},
     "output_type": "execute_result"
    }
   ],
   "source": [
    "df['X0'].unique()"
   ]
  },
  {
   "cell_type": "code",
   "execution_count": 25,
   "id": "700d6fc2-1ff5-4228-a1f3-5cbb4098af93",
   "metadata": {},
   "outputs": [
    {
     "data": {
      "text/plain": [
       "47"
      ]
     },
     "execution_count": 25,
     "metadata": {},
     "output_type": "execute_result"
    }
   ],
   "source": [
    "len(df['X0'].unique())"
   ]
  },
  {
   "cell_type": "code",
   "execution_count": 28,
   "id": "e1dbfcfc-d6d9-45d6-8ffe-06887b382544",
   "metadata": {},
   "outputs": [
    {
     "name": "stdout",
     "output_type": "stream",
     "text": [
      "47\n",
      "27\n",
      "44\n",
      "7\n",
      "4\n",
      "29\n",
      "12\n",
      "25\n"
     ]
    }
   ],
   "source": [
    "for i in df.columns:\n",
    "    print(len(df[i].unique()))"
   ]
  },
  {
   "cell_type": "code",
   "execution_count": 31,
   "id": "91ba8b97-e633-4cb5-a1fb-44b0737e1dbe",
   "metadata": {},
   "outputs": [
    {
     "data": {
      "text/plain": [
       "X1\n",
       "aa    833\n",
       "s     598\n",
       "b     592\n",
       "l     590\n",
       "v     408\n",
       "r     251\n",
       "i     203\n",
       "a     143\n",
       "c     121\n",
       "o      82\n",
       "Name: count, dtype: int64"
      ]
     },
     "execution_count": 31,
     "metadata": {},
     "output_type": "execute_result"
    }
   ],
   "source": [
    "df.X1.value_counts().sort_values(ascending=False).head(10)"
   ]
  },
  {
   "cell_type": "code",
   "execution_count": 33,
   "id": "76aa8cac-57f9-4878-af2e-edfd2682cf50",
   "metadata": {},
   "outputs": [],
   "source": [
    "list_10 = df.X1.value_counts().sort_values(ascending=False).head(10).index\n",
    "list_10 = list(list_10)"
   ]
  },
  {
   "cell_type": "code",
   "execution_count": 34,
   "id": "b0ee563f-d990-4a4d-8fd8-26ebee448e89",
   "metadata": {},
   "outputs": [
    {
     "data": {
      "text/plain": [
       "['aa', 's', 'b', 'l', 'v', 'r', 'i', 'a', 'c', 'o']"
      ]
     },
     "execution_count": 34,
     "metadata": {},
     "output_type": "execute_result"
    }
   ],
   "source": [
    "list_10"
   ]
  },
  {
   "cell_type": "code",
   "execution_count": 35,
   "id": "20b27964-2faf-48dc-90bd-946978b8fc00",
   "metadata": {},
   "outputs": [],
   "source": [
    "for label in list_10:\n",
    "    df[label] = np.where(df['X1'] == label, 1, 0)"
   ]
  },
  {
   "cell_type": "code",
   "execution_count": 37,
   "id": "dddd70fc-bde7-4161-91e6-4283f9ba2c62",
   "metadata": {},
   "outputs": [
    {
     "data": {
      "text/plain": [
       "0       v\n",
       "1       t\n",
       "2       w\n",
       "3       t\n",
       "4       v\n",
       "       ..\n",
       "4204    s\n",
       "4205    o\n",
       "4206    v\n",
       "4207    r\n",
       "4208    r\n",
       "Name: X1, Length: 4209, dtype: object"
      ]
     },
     "execution_count": 37,
     "metadata": {},
     "output_type": "execute_result"
    }
   ],
   "source": [
    "df[['X1'], ]"
   ]
  },
  {
   "cell_type": "code",
   "execution_count": null,
   "id": "5e7e473b-5224-4f86-abe2-3c6de20d752c",
   "metadata": {},
   "outputs": [],
   "source": []
  }
 ],
 "metadata": {
  "kernelspec": {
   "display_name": "Python 3 (ipykernel)",
   "language": "python",
   "name": "python3"
  },
  "language_info": {
   "codemirror_mode": {
    "name": "ipython",
    "version": 3
   },
   "file_extension": ".py",
   "mimetype": "text/x-python",
   "name": "python",
   "nbconvert_exporter": "python",
   "pygments_lexer": "ipython3",
   "version": "3.11.7"
  }
 },
 "nbformat": 4,
 "nbformat_minor": 5
}
